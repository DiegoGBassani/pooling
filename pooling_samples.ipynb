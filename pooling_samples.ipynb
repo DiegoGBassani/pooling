{
 "cells": [
  {
   "cell_type": "markdown",
   "metadata": {},
   "source": [
    "# Pooling strategies to reduce mean test counts.\n",
    "\n",
    "Pooling can be used to screen a large group of people all at one time for illness.  If the group comes back negative, then they can all be ruled out for having the disease after just one test.  If it comes back positive, refined testing of the group is needed to determine which are ill.  Here, we consider two alternatives for this refined search process:  (1) a bisection approach and (2) a simple approach. In the bisection method, we split the group into two and test each subgroup.  If either half tests negative, we can rule out that half.  Otherwise, we split it again in two, etc.  In this way we can identify exactly which people have the disease.  In the simple method, we simply skip to testing each individual when the initial group comes back positive. \n",
    "\n",
    "Our aim is to see which performs best in the sense of reducing the mean number of tests required.  This depends sensitively on the fraction of people in the testing population who have the disease.  If it is a large fraction, pooling does not help.  If p = 0.1, (perhaps typical for people who show up with symptoms), then we can cut the test count by about half and both methods work ok.  If p << 1, then we can get a dramatic reduction in test count needed and the bisection method works best.\n",
    "\n",
    "Jonathan Landy, March 29, 2020.\n"
   ]
  },
  {
   "cell_type": "markdown",
   "metadata": {},
   "source": [
    "## Code to get best pooling result"
   ]
  },
  {
   "cell_type": "code",
   "execution_count": 8,
   "metadata": {},
   "outputs": [
    {
     "name": "stdout",
     "output_type": "stream",
     "text": [
      "Populating the interactive namespace from numpy and matplotlib\n",
      "Bisection: fraction of full testing: 0.43\n",
      "Simple: fraction of full testing: 0.84\n"
     ]
    },
    {
     "data": {
      "text/plain": [
       "Text(0,0.5,'mean tests / pooling size')"
      ]
     },
     "execution_count": 8,
     "metadata": {},
     "output_type": "execute_result"
    },
    {
     "data": {
      "image/png": "[encoded data removed]",
      "text/plain": [
       "<Figure size 432x288 with 1 Axes>"
      ]
     },
     "metadata": {
      "needs_background": "light"
     },
     "output_type": "display_data"
    }
   ],
   "source": [
    "import numpy as np\n",
    "%pylab inline\n",
    "\n",
    "K = 5\n",
    "P_POSITIVE = 0.05\n",
    "\n",
    "def theory_bisection(p=P_POSITIVE, K=K):\n",
    "    count = 1 + 2 * np.sum([2 ** k * (1 - (1 - p) ** (2 ** (K - k))) for k in range(K)] )\n",
    "    return count / 2 ** K\n",
    "\n",
    "def theory_simple(p=P_POSITIVE, K=K):\n",
    "    n = 2 ** K\n",
    "    p0 = (1 - p) ** n\n",
    "    count = 1 * p0 + (1 + n) * (1 - p0)\n",
    "    return count / n\n",
    "\n",
    "print 'Bisection: fraction of full testing: %2.2f' % (theory_bisection())\n",
    "print 'Simple: fraction of full testing: %2.2f' % (theory_simple())\n",
    "\n",
    "p = 0.001\n",
    "data = [theory_bisection(p, k) for k in range(15)]\n",
    "min_index = np.argmin(data)\n",
    "plot(data, 'o--', label='bisection (min = %2.2f)'%data[min_index], alpha=0.5)\n",
    "plot(min_index, data[min_index], 'ro',alpha=0.5)\n",
    "\n",
    "data = [theory_simple(p, k) for k in range(15)]\n",
    "min_index = np.argmin(data)\n",
    "plot(data, 'o--', label='simple (min = %2.2f)'%data[min_index],alpha=0.5)\n",
    "plot(min_index, data[min_index], 'go',alpha=0.5)\n",
    "plt.legend()\n",
    "plt.title('Test count reduction vs log_2 pooling size, p = %0.3f' %p)\n",
    "plt.xlabel('log_2 pooling size')\n",
    "plt.ylabel('mean tests / pooling size')"
   ]
  },
  {
   "cell_type": "markdown",
   "metadata": {},
   "source": [
    "# Sample to get histogram, confirm theoretical forms"
   ]
  },
  {
   "cell_type": "code",
   "execution_count": 31,
   "metadata": {},
   "outputs": [
    {
     "name": "stdout",
     "output_type": "stream",
     "text": [
      "total size = 512\n"
     ]
    },
    {
     "data": {
      "text/plain": [
       "19"
      ]
     },
     "execution_count": 31,
     "metadata": {},
     "output_type": "execute_result"
    }
   ],
   "source": [
    "def test_count(sequence):\n",
    "    \"\"\"\n",
    "    Recursively check the number of tests required to find all\n",
    "    positive cases in a given sequence.\n",
    "    \n",
    "    inputs\n",
    "    ------\n",
    "    sequence : list\n",
    "        List of 0,1 values with 0 = no disease, 1 = disease.\n",
    "        The ith element is the hidden result for the ith person.\n",
    "    \"\"\"\n",
    "    #print sequence\n",
    "    test_size = len(sequence)\n",
    "    if np.log2(test_size) != np.log2(test_size) // 1.0:\n",
    "        msg = 'Sequence must have a power of two length.'\n",
    "        raise ValueError(msg) \n",
    "    \n",
    "    # if just one person left, must test\n",
    "    if test_size == 1:\n",
    "        return 1\n",
    "    \n",
    "    # more than one person case:\n",
    "    if 1 not in sequence:\n",
    "        # no positives on this test, so no 'children' tests\n",
    "        return 1\n",
    "    else:\n",
    "        # at least one positive, must test two children\n",
    "        left_count = test_count(sequence[:test_size//2])\n",
    "        right_count = test_count(sequence[test_size//2:])\n",
    "        return 1 + left_count + right_count\n",
    "\n",
    "# create an example sequence:\n",
    "K = 9\n",
    "seq = [0 for i in range(2 ** K)]\n",
    "seq[12] = 1\n",
    "print 'total size = %i' % len(seq)\n",
    "test_count(seq)"
   ]
  },
  {
   "cell_type": "code",
   "execution_count": 32,
   "metadata": {},
   "outputs": [],
   "source": [
    "# now we will generate many fake samples with a given p value\n",
    "\n",
    "def generate_random_seq(p=P_POSITIVE, K=K):\n",
    "    a = [0, 1]\n",
    "    seq = np.random.choice(a=a, size=2**K, p=[1 - p, p])\n",
    "    return seq\n",
    "\n",
    "checks = 10000\n",
    "test_counts_needed = []\n",
    "for _ in range(checks):\n",
    "    seq = generate_random_seq(p=0.001, K=9)\n",
    "    test_counts_needed.append(test_count(seq))"
   ]
  },
  {
   "cell_type": "code",
   "execution_count": 34,
   "metadata": {},
   "outputs": [
    {
     "name": "stdout",
     "output_type": "stream",
     "text": [
      "Populating the interactive namespace from numpy and matplotlib\n"
     ]
    },
    {
     "data": {
      "text/plain": [
       "Text(0.5,1,'Histogram of needed test counts, p=0.001, K=9')"
      ]
     },
     "execution_count": 34,
     "metadata": {},
     "output_type": "execute_result"
    },
    {
     "data": {
      "image/png": "[encoded data removed]",
      "text/plain": [
       "<Figure size 432x288 with 1 Axes>"
      ]
     },
     "metadata": {
      "needs_background": "light"
     },
     "output_type": "display_data"
    }
   ],
   "source": [
    "plt.hist(test_counts_needed, bins=20)\n",
    "plt.title('Histogram of needed test counts, p=%0.3f, K=%i'%(p, K))"
   ]
  }
 ],
 "metadata": {
  "kernelspec": {
   "display_name": "Python 2",
   "language": "python",
   "name": "python2"
  },
  "language_info": {
   "codemirror_mode": {
    "name": "ipython",
    "version": 2
   },
   "file_extension": ".py",
   "mimetype": "text/x-python",
   "name": "python",
   "nbconvert_exporter": "python",
   "pygments_lexer": "ipython2",
   "version": "2.7.10"
  }
 },
 "nbformat": 4,
 "nbformat_minor": 2
}
